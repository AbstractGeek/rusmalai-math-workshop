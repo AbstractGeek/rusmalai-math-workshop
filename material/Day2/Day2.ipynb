{
 "cells": [
  {
   "cell_type": "markdown",
   "metadata": {
    "slideshow": {
     "slide_type": "slide"
    }
   },
   "source": [
    "# Probability & Statistics\n",
    "\n",
    "## Session 2: 22 February 2018"
   ]
  },
  {
   "cell_type": "markdown",
   "metadata": {
    "slideshow": {
     "slide_type": "slide"
    }
   },
   "source": [
    "## A quick recap:\n",
    "\n",
    " - Probability space $ (\\Omega,p) $ \n",
    " \n",
    " - Dependence and Independence\n",
    " \n",
    " - Continuous versus Discrete"
   ]
  },
  {
   "cell_type": "markdown",
   "metadata": {
    "slideshow": {
     "slide_type": "slide"
    }
   },
   "source": [
    "# Probability Mass/Distribution Functions\n",
    "\n",
    "\n",
    "## Random variable\n",
    "\n",
    "- A variable $ X $ that can take the values/realizations $ x $ from a domain/set $ \\Omega $ (which has elements $ \\omega $). Previously we were calling everything an 'event' and assigning a probability to that 'event'.\n",
    "\n",
    "- There is a probability attached to this random variable which is given by the probability distribution function\n",
    "\n",
    "#### The point is 'Everything is a Random Variable'  (Well, kinda)"
   ]
  },
  {
   "cell_type": "markdown",
   "metadata": {
    "slideshow": {
     "slide_type": "fragment"
    }
   },
   "source": [
    "- probability distribution function is a function that takes this random variable as an input and ouputs a number such that when summed over the domain/set it all adds up to 1\n",
    "\n",
    "- I know....that was unnecessarily complicated! \n"
   ]
  },
  {
   "cell_type": "markdown",
   "metadata": {
    "slideshow": {
     "slide_type": "subslide"
    }
   },
   "source": [
    "Let's do it separately for discrete and continuous random variables:\n",
    "\n",
    "### PMF for a discrete random variable\n",
    "\n",
    "PMF stands for Probablity Mass Function $ P(x) $ and this is what it is:\n",
    "- it is exactly the probability of the random variable happening \n",
    "For every $ x \\in \\Omega $, there is a $ P(x) \\geq 0 $ such that\n",
    "$$ \\sum_{x\\in\\Omega} P(x) = 1 $$\n",
    "\n",
    "### PDF for a continuous random variable\n",
    "\n",
    "PDF stands for Probability Density Function $ p(x) $ and there is a good reason it is called a 'density function' and not a 'mass function' \n",
    "- each kutti (little) element $ dx $ between $ x $ and $ x+dx $ has a probability of $ p(x)dx $ being sampled\n",
    "- these probabilities added up (in this case integrated out) give 1 \n",
    "$$ \\int_{x\\in\\Omega} p(x) dx = 1 $$"
   ]
  },
  {
   "cell_type": "markdown",
   "metadata": {
    "slideshow": {
     "slide_type": "slide"
    }
   },
   "source": [
    "## Expectation\n",
    "\n",
    "#### What is the expected outcome of an experiment ?\n",
    "\n"
   ]
  },
  {
   "cell_type": "markdown",
   "metadata": {
    "slideshow": {
     "slide_type": "fragment"
    }
   },
   "source": [
    "Since each experiment gives us different realizations of the random variable $ X $,\n",
    "#### In other words, what is the expected  value of the random variable $X$ ?\n"
   ]
  },
  {
   "cell_type": "markdown",
   "metadata": {
    "slideshow": {
     "slide_type": "subslide"
    }
   },
   "source": [
    "for the discrete case \n",
    "$$ E[x] = \\sum_{x\\in\\Omega} x P(x) $$\n",
    "or for the coninuous case\n",
    "$$ E[x] = \\int_{x\\in\\Omega} x p(x) dx $$"
   ]
  },
  {
   "cell_type": "markdown",
   "metadata": {
    "slideshow": {
     "slide_type": "slide"
    }
   },
   "source": [
    "\n",
    "## Uniform distribution\n",
    "\n",
    "Let's list some examples\n",
    "\n",
    "### Discete\n",
    "\n",
    "- The example of sampling one nucleotide from the total pool of nucleotides in all genetic sequences (both strands included)\n",
    "- ?\n",
    "\n",
    "### Continuous \n",
    "\n",
    "- Dart board (sampling matters)\n",
    "- ?"
   ]
  },
  {
   "cell_type": "markdown",
   "metadata": {
    "slideshow": {
     "slide_type": "subslide"
    }
   },
   "source": [
    "### Discrete \n",
    "$$ \\Omega = \\{a_1,a_2,a_3,....,a_n\\} $$\n",
    "$$ P(x) = \\frac{1}{n} \\qquad \\text{where} \\quad x\\in\\Omega$$ \n",
    "\n",
    "### Continuous \n",
    "$$ \\Omega = (a,b) $$\n",
    "$$ p(x) = \\frac{1}{b-a} \\qquad \\text{where} \\quad x\\in\\Omega$$ \n",
    "\n",
    "Do these follow all the rules of Probability?"
   ]
  },
  {
   "cell_type": "markdown",
   "metadata": {
    "slideshow": {
     "slide_type": "subslide"
    }
   },
   "source": [
    "### Example: matching 2 sequences at random\n",
    "\n",
    "Given any two sequences of equal length what is expected number of positions that match?"
   ]
  },
  {
   "cell_type": "code",
   "execution_count": 28,
   "metadata": {
    "slideshow": {
     "slide_type": "subslide"
    }
   },
   "outputs": [
    {
     "name": "stdout",
     "output_type": "stream",
     "text": [
      "24.699\n",
      "0.24699000000000002\n"
     ]
    }
   ],
   "source": [
    "import numpy as np\n",
    "nucleotides = ['A','T','G','C']\n",
    "neq=0\n",
    "for k in range(0,1000):\n",
    "    n = 100 #length of the sequences\n",
    "    array1 = np.random.randint(4,size=n)\n",
    "    array2 = np.random.randint(4,size=n)\n",
    "    seq1 = ''\n",
    "    seq2 = ''\n",
    "#     print(array1)\n",
    "#     print(array2)\n",
    "    for i in array1:\n",
    "        seq1 = seq1 + nucleotides[i]\n",
    "\n",
    "    for j in array2:\n",
    "        seq2 = seq2 + nucleotides[j]\n",
    "\n",
    "#     print(seq1)\n",
    "#     print(seq2)\n",
    "\n",
    "    neq = neq + n - np.count_nonzero(array1-array2)\n",
    "\n",
    "neq = neq/1000\n",
    "print(neq)\n",
    "fraction = neq/n\n",
    "print(fraction) \n",
    "    "
   ]
  },
  {
   "cell_type": "markdown",
   "metadata": {
    "slideshow": {
     "slide_type": "slide"
    }
   },
   "source": [
    "## Binomial Distribution\n",
    "\n",
    "The above example was actually of a binomial distribution. \n",
    "\n",
    "Whenever we sample something multiple times (with replacement) and ask for the chance of seeing **$m$** instances of a particular event **$E$**\n",
    "\n"
   ]
  },
  {
   "cell_type": "markdown",
   "metadata": {
    "slideshow": {
     "slide_type": "subslide"
    }
   },
   "source": [
    "For N independent and identically distributed (iid) random variable $ X \\sim Ber(p) $, the probability that '0' comes up k times is\n",
    "\n",
    "\n",
    "$$ P(k) = \\binom{N}{k} p^k(1-p)^{N-k} $$"
   ]
  },
  {
   "cell_type": "markdown",
   "metadata": {
    "slideshow": {
     "slide_type": "slide"
    }
   },
   "source": [
    "## Poisson Distribution\n",
    "\n",
    "### Counting the stars in the sky\n",
    "\n",
    "Let's choose a patch of sky and count the number of stars in it. What is the frequency/chance of seeing no stars? one star?...  "
   ]
  },
  {
   "cell_type": "markdown",
   "metadata": {
    "slideshow": {
     "slide_type": "slide"
    }
   },
   "source": [
    "Let's work it out! Intuitively!\n",
    "\n",
    "Let's not touch math for a while \n",
    "\n"
   ]
  },
  {
   "cell_type": "markdown",
   "metadata": {
    "slideshow": {
     "slide_type": "slide"
    }
   },
   "source": [
    "## Gaussian Distribution\n",
    "\n",
    "Where do we see this?\n",
    "\n"
   ]
  },
  {
   "cell_type": "markdown",
   "metadata": {
    "slideshow": {
     "slide_type": "subslide"
    }
   },
   "source": [
    "- A lot of independent factors shaping things up! \n",
    "\n",
    "- Computing averages \n"
   ]
  },
  {
   "cell_type": "code",
   "execution_count": 33,
   "metadata": {
    "slideshow": {
     "slide_type": "subslide"
    }
   },
   "outputs": [
    {
     "data": {
      "text/plain": [
       "(array([ 0.05228988,  0.        ,  0.        ,  0.        ,  0.05228988,\n",
       "         0.10457976,  0.        ,  0.05228988,  0.2614494 ,  0.47060892,\n",
       "         0.41831904,  0.2614494 ,  0.47060892,  0.47060892,  0.88892795,\n",
       "         0.83663807,  1.30724699,  1.62098627,  1.62098627,  1.77785591,\n",
       "         2.14388506,  2.77136362,  2.5622041 ,  2.40533446,  3.86945109,\n",
       "         2.98052314,  2.92823326,  3.50342193,  2.92823326,  1.72556603,\n",
       "         1.93472555,  2.35304458,  1.72556603,  1.46411663,  1.15037735,\n",
       "         0.83663807,  1.04579759,  0.99350771,  0.88892795,  0.15686964,\n",
       "         0.31373928,  0.20915952,  0.36602916,  0.05228988,  0.10457976,\n",
       "         0.10457976,  0.        ,  0.        ,  0.05228988,  0.05228988]),\n",
       " array([-0.48492563, -0.46580147, -0.44667731, -0.42755315, -0.40842899,\n",
       "        -0.38930483, -0.37018067, -0.35105651, -0.33193235, -0.31280819,\n",
       "        -0.29368403, -0.27455987, -0.25543571, -0.23631155, -0.21718739,\n",
       "        -0.19806323, -0.17893907, -0.15981491, -0.14069075, -0.1215666 ,\n",
       "        -0.10244244, -0.08331828, -0.06419412, -0.04506996, -0.0259458 ,\n",
       "        -0.00682164,  0.01230252,  0.03142668,  0.05055084,  0.069675  ,\n",
       "         0.08879916,  0.10792332,  0.12704748,  0.14617164,  0.1652958 ,\n",
       "         0.18441996,  0.20354412,  0.22266828,  0.24179244,  0.2609166 ,\n",
       "         0.28004076,  0.29916491,  0.31828907,  0.33741323,  0.35653739,\n",
       "         0.37566155,  0.39478571,  0.41390987,  0.43303403,  0.45215819,\n",
       "         0.47128235]),\n",
       " <a list of 50 Patch objects>)"
      ]
     },
     "execution_count": 33,
     "metadata": {},
     "output_type": "execute_result"
    },
    {
     "data": {
      "image/png": "[encoded data removed]",
      "text/plain": [
       "<matplotlib.figure.Figure at 0x7f9c5047c828>"
      ]
     },
     "metadata": {},
     "output_type": "display_data"
    }
   ],
   "source": [
    "import numpy as np\n",
    "import matplotlib.pyplot as plt\n",
    "%matplotlib inline\n",
    "\n",
    "avg = np.zeros(1000)\n",
    "for i in range(0,1000):\n",
    "    x = np.random.normal(0,1,size=50)\n",
    "    # print(x)\n",
    "    avg[i] = np.mean(x)\n",
    "\n",
    "plt.hist(avg,normed=True,bins=50)\n"
   ]
  },
  {
   "cell_type": "markdown",
   "metadata": {
    "slideshow": {
     "slide_type": "slide"
    }
   },
   "source": [
    "## The road ahead\n",
    "\n",
    " - ### Statistics\n",
    " - ### Estimation and Inference\n",
    " - ### Another approach to Probability: Bayesian approach"
   ]
  },
  {
   "cell_type": "markdown",
   "metadata": {},
   "source": [
    "# Let's chat this week \n",
    "\n",
    "### About:\n",
    "- stochastic processes and how the same distribution functions come about\n",
    "- \n",
    "- "
   ]
  }
 ],
 "metadata": {
  "celltoolbar": "Slideshow",
  "kernelspec": {
   "display_name": "Python 3",
   "language": "python",
   "name": "python3"
  },
  "language_info": {
   "codemirror_mode": {
    "name": "ipython",
    "version": 3
   },
   "file_extension": ".py",
   "mimetype": "text/x-python",
   "name": "python",
   "nbconvert_exporter": "python",
   "pygments_lexer": "ipython3",
   "version": "3.6.3"
  }
 },
 "nbformat": 4,
 "nbformat_minor": 2
}
