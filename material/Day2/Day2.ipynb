{
 "cells": [
  {
   "cell_type": "markdown",
   "metadata": {
    "slideshow": {
     "slide_type": "slide"
    }
   },
   "source": [
    "# Probability & Statistics\n",
    "\n",
    "## Session 2: 22 February 2018"
   ]
  },
  {
   "cell_type": "markdown",
   "metadata": {
    "slideshow": {
     "slide_type": "slide"
    }
   },
   "source": [
    "## A quick recap:\n",
    "\n",
    " - Probability space \n",
    " - Dependence and Independence\n",
    " - Continuous versus Discrete"
   ]
  },
  {
   "cell_type": "markdown",
   "metadata": {
    "slideshow": {
     "slide_type": "slide"
    }
   },
   "source": [
    "## Expectation\n",
    "\n",
    "What is the expected outcome of an experiment?\n"
   ]
  },
  {
   "cell_type": "markdown",
   "metadata": {
    "slideshow": {
     "slide_type": "slide"
    }
   },
   "source": [
    "# Probability Mass/Distribution Functions\n",
    "\n",
    "\n",
    "## Random variable\n",
    "\n",
    "### PMF for a discrete random variable\n",
    "\n",
    "### PDF for a continuous random variable"
   ]
  },
  {
   "cell_type": "markdown",
   "metadata": {
    "slideshow": {
     "slide_type": "slide"
    }
   },
   "source": [
    "\n",
    "## Uniform distribution\n",
    "\n",
    "Let's list some examples\n",
    "\n",
    "### Discete\n",
    "\n",
    "- The example of sampling one nucleotide from the total pool of nucleotides in all genetic sequences (both strands included)\n",
    "- ?\n",
    "\n",
    "### Continuous \n",
    "\n",
    "- Dart board\n",
    "- ?"
   ]
  },
  {
   "cell_type": "markdown",
   "metadata": {
    "slideshow": {
     "slide_type": "subslide"
    }
   },
   "source": [
    "### Discrete \n",
    "$$ \\Omega = \\{a_1,a_2,a_3,....,a_n\\} $$\n",
    "$$ P(x) = \\frac{1}{n} \\qquad \\text{where} \\quad x\\in\\Omega$$ \n",
    "\n",
    "### Continuous \n",
    "$$ \\Omega = (a,b) $$\n",
    "$$ p(x) = \\frac{1}{b-a} \\qquad \\text{where} \\quad x\\in\\Omega$$ \n",
    "\n",
    "Do these follow all the rules of Probability?"
   ]
  },
  {
   "cell_type": "markdown",
   "metadata": {
    "slideshow": {
     "slide_type": "subslide"
    }
   },
   "source": [
    "### Example: matching 2 sequences at random\n",
    "\n",
    "Given any two sequences of equal length what is expected number of positions that match?"
   ]
  },
  {
   "cell_type": "code",
   "execution_count": 30,
   "metadata": {
    "slideshow": {
     "slide_type": "subslide"
    }
   },
   "outputs": [
    {
     "name": "stdout",
     "output_type": "stream",
     "text": [
      "0.251\n"
     ]
    }
   ],
   "source": [
    "import numpy as np\n",
    "nucleotides = ['A','T','G','C']\n",
    "neq=0\n",
    "for k in range(0,100):\n",
    "    n = 10 #length of the sequences\n",
    "    array1 = np.random.randint(4,size=n)\n",
    "    array2 = np.random.randint(4,size=n)\n",
    "    seq1 = ''\n",
    "    seq2 = ''\n",
    "#     print(array1)\n",
    "#     print(array2)\n",
    "    for i in array1:\n",
    "        seq1 = seq1 + nucleotides[i]\n",
    "\n",
    "    for j in array2:\n",
    "        seq2 = seq2 + nucleotides[j]\n",
    "\n",
    "#     print(seq1)\n",
    "#     print(seq2)\n",
    "\n",
    "    neq = neq + n - np.count_nonzero(array1-array2)\n",
    "\n",
    "print(neq/1000)\n",
    "    "
   ]
  },
  {
   "cell_type": "markdown",
   "metadata": {
    "slideshow": {
     "slide_type": "slide"
    }
   },
   "source": [
    "## Binomial Distribution\n",
    "\n",
    "The above example was actually binomial distribution. \n",
    "\n",
    "Whenever we sample something multiple times (with replacement) and ask for the chance of seeing **$m$** instances of a particular event **$E$**"
   ]
  },
  {
   "cell_type": "markdown",
   "metadata": {
    "slideshow": {
     "slide_type": "slide"
    }
   },
   "source": [
    "## Poisson Distribution"
   ]
  },
  {
   "cell_type": "markdown",
   "metadata": {
    "slideshow": {
     "slide_type": "slide"
    }
   },
   "source": [
    "## Gaussian Distribution\n",
    "\n"
   ]
  },
  {
   "cell_type": "markdown",
   "metadata": {},
   "source": [
    "## Statistics"
   ]
  }
 ],
 "metadata": {
  "celltoolbar": "Slideshow",
  "kernelspec": {
   "display_name": "Python 3",
   "language": "python",
   "name": "python3"
  },
  "language_info": {
   "codemirror_mode": {
    "name": "ipython",
    "version": 3
   },
   "file_extension": ".py",
   "mimetype": "text/x-python",
   "name": "python",
   "nbconvert_exporter": "python",
   "pygments_lexer": "ipython3",
   "version": "3.6.3"
  }
 },
 "nbformat": 4,
 "nbformat_minor": 2
}
