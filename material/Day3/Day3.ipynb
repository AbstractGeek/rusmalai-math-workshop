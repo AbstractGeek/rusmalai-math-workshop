{
 "cells": [
  {
   "cell_type": "markdown",
   "metadata": {
    "slideshow": {
     "slide_type": "slide"
    }
   },
   "source": [
    "# Session 3: 8 March 2018\n",
    "\n",
    "## Probability distributions (recap), the Normal (Gaussian) Distribution"
   ]
  },
  {
   "cell_type": "markdown",
   "metadata": {
    "slideshow": {
     "slide_type": "slide"
    }
   },
   "source": [
    "# Some updates\n",
    "\n",
    "## Check out the new look of the [website](https://abstractgeek.github.io/rusmalai-math-workshop/)\n",
    "\n",
    "## a few casual reads\n",
    " - ### [Not Just a Theory—The Utility of Mathematical Models in Evolutionary Biology](http://journals.plos.org/plosbiology/article?id=10.1371/journal.pbio.1002017)\n",
    " - ### [Cartoon Guide to Statistis](http://www.joinville.udesc.br/portal/professores/veriano/materiais/Cartoon_guide_to_Statistics_large.pdf)\n",
    "\n",
    "## Challenges/Puzzles\n",
    "\n",
    "- ### Challenges for material from Sessions 1-2 are up on the [website](https://abstractgeek.github.io/rusmalai-math-workshop/)"
   ]
  },
  {
   "cell_type": "markdown",
   "metadata": {
    "slideshow": {
     "slide_type": "slide"
    }
   },
   "source": [
    "# Sampling a finite number of times\n",
    "\n",
    "Let's go back to our well understood example of a coin toss! \n",
    "\n",
    "We know that a coin toss is a \"Bernoulli\" experiment. This means that:\n",
    "- $ \\Omega = \\{H,T\\} $\n",
    "- P(H) = p\n",
    "- P(T) = 1-p\n",
    "\n",
    "What if we were to take this coin and toss it multiple (N) times? It's no longer \"Bernoulli\", right? So what is it?\n",
    " - $ \\Omega $ would be all possible combinations of H and T\n",
    " - Probability of a given sequence in this $\\Omega$ with n Heads and N-n Tails\n",
    " $$ p^n (1-p)^{N-n} $$\n",
    " - but there are ${N}\\choose{n}$ ways of getting n Heads and N-n Tails in a sequence\n",
    " \n",
    "Voila! and we have derived the Binomial distribution\n",
    "$$ P(n;p) = \\binom{N}{n} p^n (1-p)^{N-n} $$\n"
   ]
  },
  {
   "cell_type": "markdown",
   "metadata": {
    "slideshow": {
     "slide_type": "subslide"
    }
   },
   "source": [
    "## What about cases where there are multiple outcomes?\n",
    "\n",
    "Well, in that case, it is called a multinomial distribution.\n",
    "\n",
    "For instance if there are 4 possible outcomes e.g. in the case of sampling 20 nucleotides:\n",
    "\n",
    "$$ P(3 As, 2 Gs, 5 Ts, 10 Cs) = \\binom{20}{3}\\binom{17}{2}\\binom{15}{5}\\binom{10}{10} p_A^3 p_G^2 p_T^5 (1-p_A-p_G-p_T)^{10} $$"
   ]
  },
  {
   "cell_type": "code",
   "execution_count": 1,
   "metadata": {
    "collapsed": true,
    "slideshow": {
     "slide_type": "skip"
    }
   },
   "outputs": [],
   "source": [
    "# initializing the python environment \n",
    "# run this section before you run any further code\n",
    "import numpy as np\n",
    "import matplotlib.pyplot as plt\n",
    "from scipy import signal as sp \n",
    "from random import randint\n",
    "from scipy.stats import poisson\n",
    "import scipy.stats as stats\n",
    "import matplotlib.mlab as mlab\n",
    "import math"
   ]
  },
  {
   "cell_type": "markdown",
   "metadata": {
    "slideshow": {
     "slide_type": "slide"
    }
   },
   "source": [
    "The code below simulates a binomial $B(N,p)$ distribution (in other words samples from a binmoial distribution with N=10 elements) 10,000 times. It then calculates the number of ones (Heads) in each of these 10,000 sequences and plots a histogram of that."
   ]
  },
  {
   "cell_type": "code",
   "execution_count": 8,
   "metadata": {
    "slideshow": {
     "slide_type": "slide"
    }
   },
   "outputs": [
    {
     "name": "stdout",
     "output_type": "stream",
     "text": [
      "A typical sequence [1 1 0 0 1 1 1 0 1 1]\n"
     ]
    },
    {
     "data": {
      "image/png": "[encoded data removed]",
      "text/plain": [
       "<matplotlib.figure.Figure at 0x7fa8e390c630>"
      ]
     },
     "metadata": {},
     "output_type": "display_data"
    },
    {
     "name": "stdout",
     "output_type": "stream",
     "text": [
      "Average number of ones =  4.0022\n",
      "Variance =  2.43659516\n"
     ]
    }
   ],
   "source": [
    "N = 10 # number of elements in each sequence\n",
    "p = 0.4  # probability of having 1\n",
    "seq = np.zeros(10000) # we shall sample 10000 such sequences\n",
    "\n",
    "for i in range(0,10000):\n",
    "    flips = np.random.binomial(1,p,size=N)\n",
    "    seq[i] = sum(flips)\n",
    "\n",
    "print(\"A typical sequence\",flips)\n",
    "plt.hist(seq, bins=range(11))\n",
    "plt.show()\n",
    "\n",
    "print('Average number of ones = ',np.mean(seq))\n",
    "print('Variance = ',np.var(seq))"
   ]
  },
  {
   "cell_type": "markdown",
   "metadata": {
    "slideshow": {
     "slide_type": "slide"
    }
   },
   "source": [
    "Check that the average number of ones in the sequences generated is (close to) $Np$. \n",
    "Could you check if this consistent with the expected value of a Binomial $B(N,p)$ distribution?\n",
    "What about the variance? What is should it be? Does it match?\n",
    "\n",
    "Let's now go back to the star counting example which we discussed in Session 2. But this time let's go one step ahead and simulate it (don't worry you don't need to know coding. do try to understand the code though. for this take help of the comments in the code)"
   ]
  },
  {
   "cell_type": "code",
   "execution_count": 2,
   "metadata": {
    "slideshow": {
     "slide_type": "slide"
    }
   },
   "outputs": [
    {
     "data": {
      "image/png": "[encoded data removed]",
      "text/plain": [
       "<matplotlib.figure.Figure at 0x7fc4dcb77eb8>"
      ]
     },
     "metadata": {},
     "output_type": "display_data"
    }
   ],
   "source": [
    "N = 100 # size of the grid will be NxN\n",
    "p = 0.02 # probability of having a 1 at any position in the grid\n",
    "s = np.random.binomial(1,p, N*N) # generate a sequence of N^2 elements. this is still in 1D\n",
    "NightSky = np.reshape(a=s,newshape=(N,N)) # we now reshape 1D array of N^2 elements into a 2D grid of NxN  \n",
    "plt.imshow(NightSky, cmap='gray') # show the grid as a grayscale image \n",
    "plt.show() "
   ]
  },
  {
   "cell_type": "code",
   "execution_count": 5,
   "metadata": {
    "slideshow": {
     "slide_type": "slide"
    }
   },
   "outputs": [
    {
     "data": {
      "image/png": "[encoded data removed]",
      "text/plain": [
       "<matplotlib.figure.Figure at 0x7fc4aeecc518>"
      ]
     },
     "metadata": {},
     "output_type": "display_data"
    },
    {
     "name": "stdout",
     "output_type": "stream",
     "text": [
      "Average number of stars in nxn patch = 13.063365651\n",
      "Satndard deviation = 3.31842022235\n",
      "The square root of nxnxp = 3.53553390593\n"
     ]
    }
   ],
   "source": [
    "n = 25 # size of the small (smaller than N) window of nxn\n",
    "window_count = np.ones((n,n)) # create a grid of nxn and fill it with ones\n",
    "# overlay it over a patch in the original grid\n",
    "# now multiply each element of the small window with every corresponding element of the original grid that it overlies and sum them\n",
    "# check that this gives us the number of ones in that nxn grid. \n",
    "# convolving involves doing this through the entire NxN over all possible nxn chunks of it   \n",
    "count = sp.convolve2d(NightSky,window_count, mode='valid') \n",
    "# uncomment the 2 lines below to see what the convolution looks like\n",
    "# plt.imshow(outcount, cmap='gray')\n",
    "# plt.show()\n",
    "\n",
    "# Now plot a histogram of no. of ones encountered in all nxn windows over the night sky (i.e. NxN grid)\n",
    "m, bins, patches = plt.hist(count.flatten(), bins=4 ,density='True')   \n",
    "# we will now overlay a Poisson distribution with lambda = nxnxp\n",
    "x = np.arange(min(bins), max(bins))\n",
    "plt.plot(x, poisson.pmf(x, n*n*p),'r-')\n",
    "# on top of this we will overlay a Gaussian distribution with mean = nxnxp and variance = n*n*p \n",
    "x = np.linspace(min(bins),max(bins), 100)\n",
    "plt.plot(x,mlab.normpdf(x, n*n*p, np.sqrt(n*n*p)))\n",
    "plt.show()\n",
    "print('Average number of stars in nxn patch =',np.mean(count.flatten())) # print the avg number of stars in nxn \n",
    "print('Satndard deviation =',np.std(count.flatten())) # print the standard deviation \n",
    "print('The square root of nxnxp =',np.sqrt(n*n*p)) # print the value of suare root of nxnxp"
   ]
  },
  {
   "cell_type": "markdown",
   "metadata": {
    "collapsed": true,
    "slideshow": {
     "slide_type": "slide"
    }
   },
   "source": [
    "Notice that the avearge number of stars in a n x n patch is $n^2p$ and so is the variance! \n",
    "\n",
    "This is NOT surprising! The Poisson distribution is known to have mean = variance = $n^2p$. It is a very special distribution.  "
   ]
  },
  {
   "cell_type": "code",
   "execution_count": 32,
   "metadata": {
    "slideshow": {
     "slide_type": "slide"
    }
   },
   "outputs": [
    {
     "data": {
      "image/png": "[encoded data removed]",
      "text/plain": [
       "<matplotlib.figure.Figure at 0x7fc4aea0d0b8>"
      ]
     },
     "metadata": {},
     "output_type": "display_data"
    }
   ],
   "source": [
    "n = 20\n",
    "window_mean = np.ones((n,n))/(n*n) # create a grid of nxn and fill it with 1/(n^2) throughout\n",
    "# convolve (same as previously done) this nxn grid with the original NxN grid\n",
    "outmean = sp.convolve2d(NightSky,window_mean, mode='valid') \n",
    "# Now plot a histogram of avg no. of ones encountered over all nxn windows over the night sky (i.e. NxN grid)\n",
    "m, bins, patches = plt.hist(outmean.flatten(), bins=12, density='True') \n",
    "\n",
    "mu = p\n",
    "x = np.linspace(min(bins),max(bins),100)\n",
    "plt.plot(x,mlab.normpdf(x, mu, np.std(outmean.flatten())))\n",
    "plt.show()"
   ]
  },
  {
   "cell_type": "markdown",
   "metadata": {
    "collapsed": true,
    "slideshow": {
     "slide_type": "slide"
    }
   },
   "source": [
    "Law of Large Numbers \n",
    " - Weak Law\n",
    " - Strong Law\n",
    "\n",
    "Central Limit Theorem"
   ]
  },
  {
   "cell_type": "code",
   "execution_count": null,
   "metadata": {
    "collapsed": true
   },
   "outputs": [],
   "source": []
  }
 ],
 "metadata": {
  "celltoolbar": "Slideshow",
  "kernelspec": {
   "display_name": "Python 3",
   "language": "python",
   "name": "python3"
  },
  "language_info": {
   "codemirror_mode": {
    "name": "ipython",
    "version": 3
   },
   "file_extension": ".py",
   "mimetype": "text/x-python",
   "name": "python",
   "nbconvert_exporter": "python",
   "pygments_lexer": "ipython3",
   "version": "3.6.3"
  }
 },
 "nbformat": 4,
 "nbformat_minor": 2
}
