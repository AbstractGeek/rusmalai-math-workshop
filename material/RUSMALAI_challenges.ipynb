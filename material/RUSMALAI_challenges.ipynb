{
 "cells": [
  {
   "cell_type": "code",
   "execution_count": 1,
   "metadata": {
    "collapsed": true
   },
   "outputs": [],
   "source": [
    "import numpy as np\n",
    "import matplotlib.pyplot as plt\n",
    "from scipy import signal as sp\n",
    "from random import randint\n",
    "from scipy.stats import poisson\n",
    "import scipy.stats as stats\n",
    "import matplotlib.mlab as mlab\n",
    "import math"
   ]
  },
  {
   "cell_type": "code",
   "execution_count": 2,
   "metadata": {},
   "outputs": [
    {
     "name": "stdout",
     "output_type": "stream",
     "text": [
      "['A', 'T', 'G', 'C']\n",
      "[0 3]\n",
      "[3 2]\n",
      "['A', 'C']\n",
      "['C', 'G']\n"
     ]
    }
   ],
   "source": [
    "ele = ['A','T','G','C'] \n",
    "print(ele)\n",
    "\n",
    "set1 = np.random.randint(4, size=2) \n",
    "print(set1)\n",
    "\n",
    "set2 = np.random.randint(4, size=2)\n",
    "print(set2)\n",
    "string1 = [ele[i] for i in set1]\n",
    "string2 = [ele[i] for i in set2]\n",
    "print(string1)\n",
    "print(string2)"
   ]
  },
  {
   "cell_type": "code",
   "execution_count": 3,
   "metadata": {},
   "outputs": [
    {
     "name": "stdout",
     "output_type": "stream",
     "text": [
      "0\n",
      "0.0\n"
     ]
    }
   ],
   "source": [
    "count = 0\n",
    "for j in range(0,2):\n",
    "    if string1[j] == string2[j]:\n",
    "        count = count + 1\n",
    "        \n",
    "print(count)\n",
    "print(count/len(string1))"
   ]
  },
  {
   "cell_type": "code",
   "execution_count": 4,
   "metadata": {
    "collapsed": true
   },
   "outputs": [],
   "source": [
    "matches = []\n",
    "n=1000\n",
    "for runs in range(0,1000):\n",
    "    set1 = np.random.randint(4, size=n) \n",
    "    set2 = np.random.randint(4, size=n)\n",
    "    count = 0\n",
    "    for j in range(0,n):\n",
    "        if set1[j] == set2[j]:\n",
    "            count = count + 1\n",
    "            \n",
    "    matches.append(count)\n",
    "        \n",
    "    "
   ]
  },
  {
   "cell_type": "code",
   "execution_count": 5,
   "metadata": {},
   "outputs": [
    {
     "name": "stdout",
     "output_type": "stream",
     "text": [
      "[259, 249, 244, 248, 245, 243, 261, 250, 252, 267, 249, 248, 251, 253, 237, 247, 243, 252, 242, 250, 252, 243, 253, 237, 272, 260, 249, 250, 240, 233, 259, 255, 263, 273, 267, 252, 247, 257, 279, 234, 250, 237, 240, 294, 267, 230, 253, 244, 243, 263, 266, 259, 258, 241, 251, 257, 253, 232, 238, 246, 267, 247, 255, 273, 236, 257, 241, 233, 258, 273, 242, 261, 219, 251, 228, 230, 239, 252, 259, 254, 247, 245, 271, 253, 229, 253, 258, 252, 253, 233, 250, 248, 256, 221, 230, 248, 259, 254, 243, 251, 276, 260, 234, 259, 266, 246, 268, 236, 248, 249, 239, 270, 243, 231, 275, 243, 256, 220, 230, 251, 251, 250, 265, 251, 257, 249, 264, 273, 238, 256, 246, 237, 249, 237, 269, 250, 252, 247, 257, 258, 247, 261, 251, 263, 251, 223, 263, 270, 230, 261, 264, 235, 263, 252, 251, 240, 246, 259, 238, 255, 268, 252, 247, 249, 233, 259, 221, 248, 252, 261, 259, 235, 264, 226, 264, 265, 260, 256, 247, 262, 257, 251, 248, 265, 266, 253, 221, 264, 265, 265, 250, 239, 251, 240, 261, 255, 239, 257, 272, 230, 242, 244, 249, 249, 233, 230, 269, 240, 260, 236, 253, 238, 285, 236, 261, 231, 267, 226, 264, 221, 267, 257, 233, 276, 241, 245, 217, 253, 267, 247, 271, 264, 233, 236, 247, 263, 229, 257, 256, 258, 261, 255, 239, 268, 257, 265, 250, 247, 269, 242, 197, 236, 253, 265, 248, 260, 218, 259, 261, 243, 236, 227, 266, 274, 277, 269, 255, 265, 261, 257, 239, 249, 224, 246, 239, 234, 254, 255, 256, 262, 251, 259, 261, 257, 230, 250, 232, 282, 249, 242, 269, 262, 250, 253, 224, 261, 242, 213, 230, 243, 260, 243, 254, 231, 237, 216, 255, 266, 272, 258, 254, 220, 252, 249, 230, 245, 240, 230, 274, 241, 277, 274, 257, 251, 241, 246, 213, 251, 265, 273, 255, 240, 235, 247, 260, 273, 261, 260, 251, 253, 251, 242, 260, 256, 249, 277, 251, 251, 250, 236, 255, 244, 251, 240, 249, 242, 234, 269, 225, 253, 241, 247, 270, 248, 242, 250, 257, 256, 230, 256, 236, 252, 248, 241, 259, 256, 269, 241, 240, 250, 260, 249, 270, 247, 256, 233, 239, 269, 269, 233, 240, 249, 256, 249, 285, 259, 246, 216, 241, 247, 259, 246, 241, 213, 262, 261, 255, 241, 249, 237, 249, 273, 232, 255, 257, 254, 242, 248, 260, 237, 256, 242, 262, 234, 249, 238, 245, 251, 252, 281, 265, 274, 262, 229, 255, 252, 285, 260, 258, 276, 265, 268, 245, 273, 262, 265, 238, 228, 267, 279, 277, 248, 234, 255, 247, 257, 246, 243, 239, 254, 251, 261, 242, 244, 257, 232, 270, 243, 271, 248, 258, 258, 258, 247, 270, 262, 266, 257, 255, 237, 248, 270, 246, 230, 237, 245, 265, 230, 252, 265, 236, 266, 217, 232, 263, 246, 254, 243, 254, 257, 255, 253, 255, 263, 253, 254, 240, 271, 252, 265, 253, 229, 239, 257, 243, 254, 256, 260, 256, 245, 246, 264, 259, 275, 238, 237, 244, 265, 264, 246, 241, 268, 237, 245, 278, 260, 249, 252, 240, 262, 267, 257, 247, 247, 242, 247, 248, 258, 247, 261, 256, 245, 259, 278, 243, 246, 250, 241, 255, 272, 262, 230, 242, 266, 240, 250, 237, 263, 257, 236, 235, 248, 244, 238, 247, 241, 265, 227, 230, 257, 227, 247, 230, 254, 222, 266, 246, 258, 237, 248, 231, 244, 260, 237, 272, 250, 261, 245, 246, 254, 276, 254, 265, 253, 253, 245, 245, 254, 239, 217, 272, 254, 244, 227, 241, 248, 248, 263, 273, 259, 269, 249, 239, 248, 275, 244, 291, 260, 241, 254, 241, 257, 247, 242, 208, 235, 223, 258, 225, 258, 236, 266, 222, 235, 253, 261, 232, 268, 245, 238, 265, 253, 266, 256, 253, 255, 260, 252, 234, 234, 252, 259, 257, 228, 245, 249, 244, 251, 266, 245, 248, 237, 241, 272, 249, 260, 261, 249, 237, 270, 248, 243, 233, 259, 261, 263, 255, 262, 252, 265, 255, 253, 236, 242, 249, 238, 263, 263, 253, 244, 233, 257, 275, 243, 250, 244, 246, 265, 262, 255, 247, 235, 285, 243, 233, 246, 253, 235, 260, 252, 254, 233, 258, 240, 242, 246, 258, 237, 265, 247, 252, 239, 232, 233, 247, 260, 233, 259, 248, 227, 258, 261, 258, 240, 216, 256, 242, 232, 262, 233, 266, 247, 257, 242, 255, 259, 244, 253, 272, 259, 244, 268, 236, 264, 243, 271, 260, 249, 234, 252, 265, 241, 247, 251, 268, 235, 263, 263, 263, 261, 233, 258, 243, 251, 256, 237, 257, 240, 252, 236, 232, 246, 237, 232, 252, 216, 246, 243, 245, 250, 256, 254, 244, 235, 247, 231, 241, 259, 251, 281, 251, 252, 239, 264, 250, 237, 257, 261, 258, 245, 251, 260, 230, 254, 229, 237, 238, 266, 263, 244, 269, 253, 246, 247, 248, 238, 255, 236, 255, 278, 242, 277, 268, 249, 244, 248, 243, 256, 243, 244, 240, 264, 232, 257, 245, 249, 244, 263, 237, 240, 233, 242, 252, 243, 272, 264, 252, 240, 258, 279, 262, 245, 254, 232, 242, 263, 249, 279, 246, 240, 248, 253, 246, 254, 237, 242, 250, 264, 263, 224, 262, 235, 235, 238, 252, 255, 261, 253, 238, 243, 252, 249, 254, 257, 278, 248, 232, 264, 259, 275, 252, 253, 231, 241, 231, 254, 244, 273, 234, 266, 236, 267, 248, 265, 234, 284, 251, 255, 259, 246, 253, 243, 232, 275, 233, 247, 252, 254, 245, 249, 241, 263, 249, 239, 242, 235, 243, 273, 233, 254, 287, 250, 246, 232, 264, 257, 239, 250, 243, 283, 253, 228, 227, 257, 232, 256, 244, 266, 253, 246, 254, 254, 238, 237, 250, 258, 229, 284, 233, 254, 250, 246, 255, 245, 236, 260, 247, 276, 254, 255, 258, 249, 273, 249, 272, 235, 235, 252, 236, 257]\n"
     ]
    }
   ],
   "source": [
    "print(matches)"
   ]
  },
  {
   "cell_type": "code",
   "execution_count": 6,
   "metadata": {},
   "outputs": [
    {
     "data": {
      "image/png": "[encoded data removed]",
      "text/plain": [
       "<matplotlib.figure.Figure at 0x7f1ffd58ed68>"
      ]
     },
     "metadata": {},
     "output_type": "display_data"
    }
   ],
   "source": [
    "propmatches = matches\n",
    "plt.hist(matches)\n",
    "plt.show()"
   ]
  },
  {
   "cell_type": "code",
   "execution_count": 7,
   "metadata": {},
   "outputs": [
    {
     "name": "stdout",
     "output_type": "stream",
     "text": [
      "250.389\n"
     ]
    }
   ],
   "source": [
    "print(np.mean(matches))"
   ]
  },
  {
   "cell_type": "code",
   "execution_count": 8,
   "metadata": {},
   "outputs": [
    {
     "data": {
      "text/plain": [
       "array(['A', 'G', 'G', 'A', 'C', 'C', 'C', 'T', 'C', 'C', 'C', 'G', 'T',\n",
       "       'C', 'T', 'C', 'G', 'G', 'G', 'C', 'T', 'A', 'T', 'T', 'T', 'C',\n",
       "       'C', 'T', 'G', 'C', 'G', 'T', 'C', 'C', 'C', 'T', 'G', 'G', 'C',\n",
       "       'T', 'C', 'A', 'G', 'C', 'C', 'G', 'C', 'G', 'T', 'C', 'T', 'C',\n",
       "       'T', 'G', 'C', 'C', 'T', 'T', 'G', 'G', 'G', 'T', 'T', 'C', 'C',\n",
       "       'C', 'A', 'T', 'C', 'C', 'T', 'C', 'G', 'T', 'T', 'T', 'C', 'G',\n",
       "       'T', 'A', 'G', 'T', 'T', 'T', 'G', 'C', 'G', 'C', 'A', 'C', 'G',\n",
       "       'G', 'T', 'T', 'G', 'T', 'C', 'C', 'G', 'G', 'G', 'G', 'G', 'G',\n",
       "       'T', 'C', 'T', 'T', 'T', 'T', 'A', 'A', 'A', 'T', 'C', 'C', 'T',\n",
       "       'C', 'A', 'C', 'T', 'A', 'A', 'A', 'T', 'G', 'C', 'C', 'T', 'T',\n",
       "       'T', 'T', 'A', 'T', 'T', 'T', 'T', 'T', 'C', 'T', 'T', 'G', 'T',\n",
       "       'T', 'C', 'T', 'C', 'C', 'T', 'G', 'C', 'C', 'C', 'G', 'C', 'T',\n",
       "       'T', 'T', 'A', 'T', 'G', 'G', 'C', 'A', 'T', 'T', 'C', 'T', 'T',\n",
       "       'G', 'T', 'G', 'C', 'T', 'G', 'G', 'C', 'A', 'T', 'T', 'C', 'T',\n",
       "       'T', 'T', 'T', 'A', 'T', 'T', 'T', 'G', 'C', 'G', 'T', 'C', 'A',\n",
       "       'T', 'T', 'C', 'T', 'G', 'G', 'G', 'A', 'C', 'G', 'G', 'T', 'T',\n",
       "       'C', 'C', 'G', 'T', 'T', 'G', 'T', 'C', 'A', 'T', 'T', 'G', 'T',\n",
       "       'T', 'A', 'A', 'C', 'C', 'C', 'T', 'T', 'T', 'G', 'G', 'G', 'G',\n",
       "       'C', 'T', 'T', 'T', 'C', 'G', 'T', 'T', 'G', 'C', 'G', 'T', 'A',\n",
       "       'G', 'A', 'G', 'A', 'C', 'C', 'T', 'T', 'C', 'T', 'T', 'C', 'C',\n",
       "       'G', 'T', 'T', 'T', 'G', 'C', 'G', 'C', 'C', 'C', 'T', 'A', 'T',\n",
       "       'T', 'T', 'C', 'T', 'T', 'C', 'A', 'C', 'G', 'C', 'C', 'A', 'G',\n",
       "       'T', 'A', 'G', 'G', 'T', 'T', 'C', 'T', 'G', 'C', 'A', 'T', 'G',\n",
       "       'T', 'T', 'G', 'A', 'G', 'G', 'A', 'T', 'A', 'C', 'G', 'T', 'T',\n",
       "       'G', 'T', 'G', 'T', 'T', 'C', 'A', 'T', 'G', 'A', 'A', 'C', 'C',\n",
       "       'T', 'T', 'T', 'A', 'C', 'G', 'T', 'A', 'C', 'T', 'G', 'C', 'C',\n",
       "       'G', 'T', 'T', 'T', 'T', 'A', 'T', 'T', 'T', 'G', 'G', 'C', 'T',\n",
       "       'C', 'T', 'C', 'C', 'T', 'T', 'C', 'C', 'T', 'T', 'G', 'T', 'T',\n",
       "       'T', 'T', 'T', 'T', 'C', 'T', 'G', 'T', 'C', 'T', 'T', 'G', 'G',\n",
       "       'G', 'T', 'T', 'C', 'T', 'G', 'C', 'C', 'A', 'C', 'A', 'A', 'G',\n",
       "       'G', 'C', 'T', 'G', 'T', 'C', 'T', 'C', 'C', 'C', 'G', 'C', 'C',\n",
       "       'C', 'G', 'A', 'T', 'C', 'T', 'G', 'A', 'C', 'T', 'C', 'A', 'T',\n",
       "       'C', 'C', 'G', 'T', 'T', 'G', 'T', 'T', 'A', 'A', 'C', 'T', 'T',\n",
       "       'G', 'G', 'C', 'A', 'T', 'C', 'C', 'C', 'G', 'G', 'T', 'T', 'A',\n",
       "       'G', 'T', 'C', 'A', 'C', 'T', 'C', 'C', 'A', 'T', 'C', 'C', 'G',\n",
       "       'C', 'C', 'T', 'T', 'C', 'T', 'T', 'C', 'G', 'T', 'C', 'T', 'T',\n",
       "       'T', 'A', 'C', 'G', 'T', 'G', 'T', 'A', 'C', 'C', 'T', 'T', 'T',\n",
       "       'C', 'C', 'T', 'G', 'G', 'T', 'T', 'T', 'T', 'T', 'C', 'T', 'G',\n",
       "       'T', 'G', 'C', 'C', 'T', 'G', 'T', 'G', 'G', 'G', 'G', 'T', 'T',\n",
       "       'T', 'T', 'C', 'G', 'T', 'T', 'G', 'C', 'C', 'C', 'C', 'T', 'C',\n",
       "       'T', 'C', 'G', 'T', 'C', 'T', 'T', 'T', 'T', 'A', 'C', 'C', 'C',\n",
       "       'T', 'T', 'T', 'T', 'G', 'A', 'C', 'A', 'T', 'C', 'T', 'C', 'C',\n",
       "       'C', 'C', 'G', 'G', 'G', 'G', 'T', 'A', 'A', 'T', 'G', 'A', 'C',\n",
       "       'G', 'G', 'T', 'C', 'C', 'T', 'G', 'C', 'C', 'C', 'G', 'A', 'T',\n",
       "       'C', 'G', 'T', 'A', 'T', 'C', 'A', 'T', 'T', 'T', 'C', 'C', 'C',\n",
       "       'A', 'T', 'C', 'T', 'G', 'T', 'G', 'G', 'T', 'G', 'C', 'C', 'C',\n",
       "       'G', 'T', 'A', 'C', 'C', 'G', 'T', 'T', 'G', 'G', 'T', 'G', 'T',\n",
       "       'T', 'C', 'C', 'G', 'T', 'T', 'G', 'G', 'C', 'T', 'G', 'T', 'T',\n",
       "       'G', 'T', 'G', 'A', 'A', 'G', 'T', 'C', 'T', 'T', 'A', 'G', 'C',\n",
       "       'G', 'T', 'T', 'A', 'T', 'G', 'T', 'C', 'C', 'G', 'T', 'T', 'T',\n",
       "       'G', 'T', 'T', 'A', 'C', 'C', 'T', 'G', 'T', 'C', 'C', 'T', 'T',\n",
       "       'T', 'T', 'C', 'T', 'T', 'C', 'A', 'T', 'T', 'A', 'C', 'T', 'C',\n",
       "       'C', 'G', 'C', 'C', 'C', 'T', 'T', 'C', 'T', 'G', 'T', 'T', 'T',\n",
       "       'G', 'T', 'T', 'T', 'T', 'C', 'A', 'T', 'G', 'G', 'G', 'C', 'T',\n",
       "       'G', 'C', 'C', 'T', 'T', 'G', 'G', 'T', 'C', 'T', 'T', 'C', 'T',\n",
       "       'C', 'G', 'T', 'G', 'C', 'T', 'C', 'G', 'A', 'A', 'T', 'C', 'C',\n",
       "       'T', 'T', 'C', 'T', 'G', 'C', 'C', 'T', 'T', 'G', 'T', 'G', 'C',\n",
       "       'T', 'T', 'G', 'G', 'T', 'T', 'G', 'T', 'C', 'A', 'C', 'C', 'A',\n",
       "       'T', 'C', 'G', 'A', 'G', 'A', 'T', 'T', 'G', 'T', 'G', 'T', 'G',\n",
       "       'T', 'C', 'C', 'C', 'T', 'T', 'G', 'T', 'G', 'T', 'T', 'G', 'G',\n",
       "       'G', 'T', 'C', 'C', 'T', 'T', 'C', 'T', 'G', 'T', 'T', 'C', 'A',\n",
       "       'C', 'T', 'G', 'T', 'T', 'G', 'A', 'T', 'G', 'C', 'A', 'C', 'T',\n",
       "       'G', 'C', 'T', 'T', 'C', 'G', 'T', 'T', 'C', 'T', 'T', 'C', 'T',\n",
       "       'T', 'G', 'A', 'T', 'T', 'G', 'T', 'C', 'T', 'T', 'G', 'C', 'T',\n",
       "       'A', 'C', 'A', 'G', 'T', 'T', 'C', 'T', 'C', 'C', 'C', 'C', 'C',\n",
       "       'C', 'T', 'T', 'G', 'A', 'G', 'G', 'T', 'C', 'C', 'T', 'G', 'T',\n",
       "       'T', 'C', 'T', 'T', 'C', 'T', 'A', 'C', 'G', 'T', 'G', 'T', 'G',\n",
       "       'A', 'T', 'T', 'C', 'C', 'T', 'C', 'C', 'T', 'G', 'A', 'C', 'G',\n",
       "       'T', 'A', 'T', 'A', 'T', 'T', 'C', 'C', 'C', 'T', 'T', 'T', 'T',\n",
       "       'C', 'A', 'C', 'C', 'C', 'T', 'C', 'C', 'T', 'C', 'C', 'C', 'G',\n",
       "       'T', 'T', 'G', 'T', 'G', 'T', 'T', 'T', 'G', 'T', 'C', 'C', 'G',\n",
       "       'G', 'C', 'C', 'G', 'C', 'T', 'T', 'T', 'G', 'G', 'C', 'C', 'G',\n",
       "       'T', 'C', 'T', 'T', 'C', 'T', 'T', 'T', 'G', 'C', 'T', 'G', 'T',\n",
       "       'T', 'G', 'T', 'T', 'G', 'G', 'G', 'C', 'C', 'G', 'T', 'G', 'T',\n",
       "       'G', 'T', 'G', 'T', 'T', 'T', 'T', 'G', 'A', 'A', 'C', 'T', 'T',\n",
       "       'T', 'T', 'C', 'A', 'G', 'G', 'T', 'G', 'T', 'C', 'T', 'T', 'C',\n",
       "       'T', 'T', 'T', 'T', 'T', 'C', 'T', 'T', 'G', 'G', 'C', 'C'],\n",
       "      dtype='<U1')"
      ]
     },
     "execution_count": 8,
     "metadata": {},
     "output_type": "execute_result"
    }
   ],
   "source": [
    "np.random.choice(ele,p=[0.1,0.4,0.2,0.3],size=n)"
   ]
  },
  {
   "cell_type": "code",
   "execution_count": 9,
   "metadata": {
    "collapsed": true
   },
   "outputs": [],
   "source": [
    "matches = []\n",
    "n=1000\n",
    "for runs in range(0,1000):\n",
    "    set1 = np.random.choice(ele,p=[0.1,0.4,0.2,0.3],size=n)\n",
    "    set2 = np.random.choice(ele,p=[0.1,0.4,0.2,0.3],size=n)\n",
    "    count = 0\n",
    "    for j in range(0,n):\n",
    "        if set1[j] == set2[j]:\n",
    "            count = count + 1\n",
    "            \n",
    "    matches.append(count)\n",
    "        "
   ]
  },
  {
   "cell_type": "code",
   "execution_count": 10,
   "metadata": {},
   "outputs": [
    {
     "data": {
      "text/plain": [
       "300.93000000000001"
      ]
     },
     "execution_count": 10,
     "metadata": {},
     "output_type": "execute_result"
    }
   ],
   "source": [
    "np.mean(matches)"
   ]
  },
  {
   "cell_type": "code",
   "execution_count": 11,
   "metadata": {},
   "outputs": [
    {
     "name": "stdout",
     "output_type": "stream",
     "text": [
      "1000\n"
     ]
    }
   ],
   "source": [
    "print(n)"
   ]
  },
  {
   "cell_type": "code",
   "execution_count": 12,
   "metadata": {},
   "outputs": [
    {
     "name": "stdout",
     "output_type": "stream",
     "text": [
      "300.00000000000006\n"
     ]
    }
   ],
   "source": [
    "print(n*(0.1**2+0.4**2+0.2**2+0.3**2))"
   ]
  },
  {
   "cell_type": "code",
   "execution_count": null,
   "metadata": {
    "collapsed": true
   },
   "outputs": [],
   "source": []
  },
  {
   "cell_type": "code",
   "execution_count": null,
   "metadata": {
    "collapsed": true
   },
   "outputs": [],
   "source": []
  },
  {
   "cell_type": "code",
   "execution_count": 13,
   "metadata": {},
   "outputs": [
    {
     "data": {
      "image/png": "[encoded data removed]",
      "text/plain": [
       "<matplotlib.figure.Figure at 0x7f1ff5784710>"
      ]
     },
     "metadata": {},
     "output_type": "display_data"
    }
   ],
   "source": [
    "N = 10*4\n",
    "alpha = 0.001\n",
    "dt = 1\n",
    "M = 20\n",
    "# print(curr)\n",
    "nmut = []\n",
    "for num in range(1000):\n",
    "    curr = np.random.binomial(1,0,N)\n",
    "    for time in range(M):\n",
    "        x = np.random.binomial(1,alpha*dt,N)\n",
    "        curr = curr | x\n",
    "    \n",
    "    nmut.append(np.sum(curr))\n",
    "\n",
    "m, bins, patches = plt.hist(nmut, bins = range(6), density=True)\n",
    "x = np.arange(min(bins), max(bins))\n",
    "plt.plot(x, poisson.pmf(x, N*M*alpha*dt),'r-')\n",
    "plt.show()"
   ]
  },
  {
   "cell_type": "code",
   "execution_count": null,
   "metadata": {},
   "outputs": [],
   "source": []
  },
  {
   "cell_type": "code",
   "execution_count": null,
   "metadata": {
    "collapsed": true
   },
   "outputs": [],
   "source": []
  }
 ],
 "metadata": {
  "kernelspec": {
   "display_name": "Python 3",
   "language": "python",
   "name": "python3"
  },
  "language_info": {
   "codemirror_mode": {
    "name": "ipython",
    "version": 3
   },
   "file_extension": ".py",
   "mimetype": "text/x-python",
   "name": "python",
   "nbconvert_exporter": "python",
   "pygments_lexer": "ipython3",
   "version": "3.6.3"
  }
 },
 "nbformat": 4,
 "nbformat_minor": 2
}
