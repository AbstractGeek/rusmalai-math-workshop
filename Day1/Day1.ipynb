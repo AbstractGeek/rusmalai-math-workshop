{
 "cells": [
  {
   "cell_type": "markdown",
   "metadata": {
    "slideshow": {
     "slide_type": "slide"
    }
   },
   "source": [
    "# Probability & Statistics\n",
    "\n",
    "# Session 1 : 15 February 2018"
   ]
  },
  {
   "cell_type": "markdown",
   "metadata": {
    "slideshow": {
     "slide_type": "subslide"
    }
   },
   "source": [
    "There are many situations where we have to make a decision under uncertainty. A general template provided for the \"most correct\" answer is provided by Statistics: fix a small number as your \"allowed\" probability of error and deduce thresholds based on it. What remains is to be able to calculate the probabilities. "
   ]
  },
  {
   "cell_type": "markdown",
   "metadata": {
    "slideshow": {
     "slide_type": "slide"
    }
   },
   "source": [
    "# Probability\n",
    "\n",
    "It so happens that the best way we have so far is to turn to models in probability and appy them.\n",
    "\n",
    "The two ways in which we understand probability:\n",
    "1. Classical sense - chance of occurence over mutiple repititions (This is the way we usually choose and will be using for the major part of this wokshop)\n",
    "2. Bayesian sense - "
   ]
  },
  {
   "cell_type": "markdown",
   "metadata": {
    "slideshow": {
     "slide_type": "slide"
    }
   },
   "source": [
    "## Putting it into numbers\n",
    "### Or how 'random' is random?\n",
    "\n",
    "Disclaimer: No alterior motives of bringing you to the dark side (mathematics) intended. This section is purely for the purposes of agreeing on a common language so that we can deal with the later, more interesting sections. Also, it is in hopes to help you get back to these slides or any other text on Probability and Statistics in future.\n",
    "\n",
    "We will take some toy examples and try to work out the probabilites of events. But first, ground rules:\n",
    "\n",
    "1. we will keep in mind what all events could occur. Let's put all of these in one box and call it $\\Omega$\n",
    "\n",
    "2. out of all these events we shall denote probablity of a particular event E as P(E) (read P of E). This P(E) is a positive real number less than one. \n",
    "$$0 \\leq P(E) \\leq 1$$\n",
    "\n",
    "Too abstract? Hold on... let's take examples:\n"
   ]
  },
  {
   "cell_type": "markdown",
   "metadata": {
    "slideshow": {
     "slide_type": "slide"
    }
   },
   "source": [
    "### Example 1: Putting numbers to coin tosses.\n",
    "\n",
    "Let's say we toss a coin once. All that can happen is - it will land with Head facing up or Tails. Let's put these possible events in a box/set $\\Omega = \\{H,T\\}$.\n",
    "\n",
    "Now we need to assign numbers to these events, i.e. deduce/decide what their probabilities. Considering the coin is fair, we could say P(H) = P(T) = 0.5. In other words, both outcomes are equally likely...so 50-50 chance for both.\n",
    "\n",
    "What if we do the same with a die? \n",
    "\n",
    "You know P('1') = P('2') = P('3') = P('4') = P('5') = P('6') = 1/6.\n",
    "\n",
    "How would we check if our asignment of probabilities is correct? Well, we would take the coin and toss it multiple times, say a 100 times and see how many times Head or Tail turn up. So we would expect close to 50 times (heads or tails). This is intricately related to the Classical notion of probability - that over multiple realizations the proportion of times the event E happens is its probability, i.e\n",
    "\n",
    "$$ P(E) = \\frac{#times event E happened}{Total # realizations} $$\n",
    "\n",
    "And the same goes for cards! \n",
    "\n",
    "In some sense, they are all \"coin tosses\" in which all outcomes are equally likely. \n",
    "\n",
    "Now, what's a simple \"coin toss\" example in biology?\n",
    "\n",
    "If I were to pick one nucleotide from any organism's genes at random, what would it be? \n",
    "It could be any one from $\\Omega = \\{A,T,G,C\\}$ with probability\n",
    "\n",
    "P(A) = P(T) = P(G) = P(C) = 0.25\n",
    "\n",
    "And how would you check that? Count them! \n",
    "\n",
    "What if we were not to pick an organism at random but choose a specifically yeast (Saccharomyces cerevisiae)? We would then be much mistaken in our assignment of probabilities. In fact, we would something more close to\n",
    "\n",
    "P(A) = P(T) = 0.31\n",
    "\n",
    "P(G) = P(C) = 0.19\n",
    "\n",
    "This is case of a biased 4-sided \"coin\" or \"die\"."
   ]
  },
  {
   "cell_type": "markdown",
   "metadata": {
    "collapsed": true,
    "slideshow": {
     "slide_type": "subslide"
    }
   },
   "source": [
    "Simulate some simple coin tosses? "
   ]
  },
  {
   "cell_type": "markdown",
   "metadata": {
    "collapsed": true
   },
   "source": [
    "References:\n",
    "    - Probability and Statistics. Manjunath Krishnapur, Dept. of Mathematics, IISc"
   ]
  },
  {
   "cell_type": "code",
   "execution_count": null,
   "metadata": {
    "collapsed": true
   },
   "outputs": [],
   "source": []
  }
 ],
 "metadata": {
  "celltoolbar": "Slideshow",
  "kernelspec": {
   "display_name": "Python 3",
   "language": "python",
   "name": "python3"
  },
  "language_info": {
   "codemirror_mode": {
    "name": "ipython",
    "version": 3
   },
   "file_extension": ".py",
   "mimetype": "text/x-python",
   "name": "python",
   "nbconvert_exporter": "python",
   "pygments_lexer": "ipython3",
   "version": "3.6.3"
  }
 },
 "nbformat": 4,
 "nbformat_minor": 2
}
